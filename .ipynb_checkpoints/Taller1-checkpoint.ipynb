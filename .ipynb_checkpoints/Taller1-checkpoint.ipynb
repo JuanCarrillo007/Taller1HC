{
 "cells": [
  {
   "cell_type": "code",
   "execution_count": 1,
   "metadata": {},
   "outputs": [],
   "source": [
    "#Punto 1"
   ]
  },
  {
   "cell_type": "code",
   "execution_count": 2,
   "metadata": {},
   "outputs": [
    {
     "name": "stdout",
     "output_type": "stream",
     "text": [
      "Populating the interactive namespace from numpy and matplotlib\n"
     ]
    }
   ],
   "source": [
    "import os\n",
    "import pandas as pd\n",
    "from scipy import stats\n",
    "%pylab inline"
   ]
  },
  {
   "cell_type": "code",
   "execution_count": 3,
   "metadata": {},
   "outputs": [],
   "source": [
    "def LLamarListaDatos(ciudad, origenData):\n",
    "    serie=os.path.join('.','data',ciudad,origenData+'.csv')\n",
    "    serie_pd = pd.read_csv(serie, sep = ';',encoding='latin-1')\n",
    "    return serie_pd"
   ]
  },
  {
   "cell_type": "code",
   "execution_count": 4,
   "metadata": {},
   "outputs": [
    {
     "data": {
      "text/plain": [
       "'/home/nbuser/library'"
      ]
     },
     "execution_count": 4,
     "metadata": {},
     "output_type": "execute_result"
    }
   ],
   "source": [
    "pwd"
   ]
  },
  {
   "cell_type": "code",
   "execution_count": 5,
   "metadata": {},
   "outputs": [
    {
     "ename": "NameError",
     "evalue": "name 'serie_pd' is not defined",
     "output_type": "error",
     "traceback": [
      "\u001b[0;31m---------------------------------------------------------------------------\u001b[0m",
      "\u001b[0;31mNameError\u001b[0m                                 Traceback (most recent call last)",
      "\u001b[0;32m<ipython-input-5-cef2f1503df0>\u001b[0m in \u001b[0;36m<module>\u001b[0;34m()\u001b[0m\n\u001b[0;32m----> 1\u001b[0;31m \u001b[0mserie_pd\u001b[0m\u001b[0;34m.\u001b[0m\u001b[0mhead\u001b[0m\u001b[0;34m\u001b[0m\u001b[0m\n\u001b[0m",
      "\u001b[0;31mNameError\u001b[0m: name 'serie_pd' is not defined"
     ]
    }
   ],
   "source": [
    "serie_pd.head"
   ]
  },
  {
   "cell_type": "code",
   "execution_count": 6,
   "metadata": {},
   "outputs": [
    {
     "ename": "IndentationError",
     "evalue": "unindent does not match any outer indentation level (<tokenize>, line 25)",
     "output_type": "error",
     "traceback": [
      "\u001b[0;36m  File \u001b[0;32m\"<tokenize>\"\u001b[0;36m, line \u001b[0;32m25\u001b[0m\n\u001b[0;31m    \"GHImes\"].item()/dias\u001b[0m\n\u001b[0m    ^\u001b[0m\n\u001b[0;31mIndentationError\u001b[0m\u001b[0;31m:\u001b[0m unindent does not match any outer indentation level\n"
     ]
    }
   ],
   "source": [
    "def ghi_mensual(serieDatos):\n",
    "    agnos = sorted(serieDatos['AÑO'].unique())\n",
    "    ghi_dataframe = pd.DataFrame(columns=[\"AÑO\", \"MES\", \"DIAS\", \"GHImes\" , \"GHIdiarioProm\" + energia])\n",
    "    for agno in agnos:\n",
    "        for mes in range(1,13):\n",
    "            energia = list(serieDatos)[-1]\n",
    "            dias = sorted(serieDatos[(serieDatos['AÑO'] == agno) & (serieDatos['MES'] == mes)][\"DIA\"].unique())\n",
    "            ghi_mes = serieDatos.loc[((serieDatos[\"AÑO\"] == agno) & (serieDatos[\"MES\"] == mes)),energia].sum()/1000\n",
    "            ghi_diario = ghi_mes/dias[-1]\n",
    "            ghi_dict = ([(\"AÑO\":agno), (\"MES\":mes), (\"DIAS\":dias[-1]),(\"GHImes\":ghi_mes), \"GHIdiario\":ghi_diario) + (\"GHIdiarioProm\" + energia,ghi_diario)])\n",
    "            ghi_dataframe = ghi_dataframe.append(ghi_dict, ignore_index=True)\n",
    "    return ghi_dataframe\n",
    "\n",
    "def ghi_dia(serie_ghi_mensual):\n",
    "    agnos = sorted(serie_ghi_mensual['AÑO'].unique())\n",
    "    ghi_df = pd.DataFrame(columns=[\"AÑO\", \"MES\", \"GHIdiario\"])\n",
    "    for agno in agnos:\n",
    "        for mes in range(1,13):\n",
    "            dias = serie_ghi_mensual.loc[((serie_ghi_mensual[\"AÑO\"] == agno)\n",
    "                            & (serie_ghi_mensual[\"MES\"] == mes))\n",
    "                                         ,\"DIAS\"].item()\n",
    "            ghi_diario = serie_ghi_mensual.loc[(\n",
    "                (serie_ghi_mensual[\"AÑO\"] == agno)\n",
    "                            & (serie_ghi_mensual[\"MES\"] == mes)),\n",
    "                \"GHImes\"].item()/dias\n",
    "            ghi_dict = {\"AÑO\":agno, \"MES\":mes, \"GHIdiario\":ghi_diario}\n",
    "            ghi_dataframe = ghi_df.append(ghi_dict, ignore_index=True)\n",
    "    return ghi_dataframe"
   ]
  },
  {
   "cell_type": "code",
   "execution_count": null,
   "metadata": {},
   "outputs": [],
   "source": [
    "def enficc(serieDatos):\n",
    "percentil = 0.01\n",
    "enficc = ghi_diario_loc.quantile(q=percentil, numeric_only=True)[\"GHIdiario\"]\n",
    "return 'La ENFICC 99% es: ',enficc"
   ]
  },
  {
   "cell_type": "code",
   "execution_count": null,
   "metadata": {},
   "outputs": [],
   "source": [
    "serieDatos=LLamarListaDatos(\"Valledupar\" , \"IDEAM\")\n",
    "enficc(serieDatos)[1]"
   ]
  },
  {
   "cell_type": "code",
   "execution_count": null,
   "metadata": {},
   "outputs": [],
   "source": [
    "#Punto 2"
   ]
  },
  {
   "cell_type": "code",
   "execution_count": null,
   "metadata": {},
   "outputs": [],
   "source": [
    "def graficas(ciudad1,ciudad2,ciudad3,ciudad4,OrigenDatos):\n",
    "    serie1 = LlamarListaDatos(ciudad1,origenDatos)\n",
    "    serie2 = LlamarListaDatos(ciudad1,origenDatos)\n",
    "    serie3 = LlamarListaDatos(ciudad1,origenDatos)\n",
    "    serie4 = LlamarListaDatos(ciudad1,origenDatos)\n",
    "    datos1 = sorted(ghi_mes(serie1)[\"HGIdiarioPromedio\"+list(serie1)[-1]])\n",
    "    datos2 = sorted(ghi_mes(serie1)[\"HGIdiarioPromedio\"+list(serie1)[-1]])\n",
    "    datos3 = sorted(ghi_mes(serie1)[\"HGIdiarioPromedio\"+list(serie1)[-1]])\n",
    "    datos4 = sorted(ghi_mes(serie1)[\"HGIdiarioPromedio\"+list(serie1)[-1]])\n",
    "    numdatos1 = range(len(data1))\n",
    "    numdatos2 = range(len(data1))\n",
    "    numdatos3 = range(len(data1))\n",
    "    numdatos4 = range(len(data1))\n",
    "    \n",
    "    fig=figure()\n",
    "    pylab.xlabel(\"Datos\")\n",
    "    pylab.ylabel(\"Energía/Energía Base IDEAM\")\n",
    "    pylab.title(origenDatos)\n",
    "    pylab.plot(numdatos1,datos1/datos1[0],'-k', label=ciudad1)\n",
    "    pylab.plot(numdatos2,datos2/datos2[0],'-b', label=ciudad2)\n",
    "    pylab.plot(numdatos3,datos3/datos3[0],'-y', label=ciudad3)\n",
    "    pylab.plot(numdatos4,datos4/datos4[0],'-r', label=ciudad4)\n",
    "    pylab.legend(loc='upper left')\n",
    "    \n",
    "    return "
   ]
  },
  {
   "cell_type": "code",
   "execution_count": null,
   "metadata": {},
   "outputs": [],
   "source": [
    "graficas ('Cali','Valledupar', 'SantaMarta','Sucre', 'IDEAM')"
   ]
  },
  {
   "cell_type": "code",
   "execution_count": null,
   "metadata": {},
   "outputs": [],
   "source": [
    "#Punto 3"
   ]
  },
  {
   "cell_type": "code",
   "execution_count": null,
   "metadata": {},
   "outputs": [],
   "source": [
    "def datosobjetivo (agnoinicio, mesinicio, agnofinal, mesfinal, ciudad):\n",
    "    origen='IDEAM'\n",
    "    seriex =LLamarListaDatos(ciudad,origen)[(LLamarListaDatos(ciudad,origen)['AÑO']>=agnoinicio)&\n",
    "                                          (LLamarListaDatos(ciudad,origen)['MES']>=mesinicio)&\n",
    "                                           (LLamarListaDatos(ciudad,origen)['AÑO']<=agnofinal)&\n",
    "                                           (LLamarListaDatos(ciudad,origen)['MES']<=mesfinal)]\n",
    "    return seriex\n",
    "\n",
    "def datosreferencia (agnoinicio, mesinicio, agnofinal, mesfinal):\n",
    "    origen='NREL'\n",
    "    seriey =LLamarListaDatos(ciudad,origen)[(LLamarListaDatos(ciudad,origen)['AÑO']>=agnoinicio)&\n",
    "                                          (LLamarListaDatos(ciudad,origen)['MES']>=mesinicio)&\n",
    "                                           (LLamarListaDatos(ciudad,origen)['AÑO']<=agnofinal)&\n",
    "                                           (LLamarListaDatos(ciudad,origen)['MES']<=mesfinal)]\n",
    "    \n",
    "    return seriey\n",
    "\n",
    "def funcionmcp (agnoinicio, mesinicio, agnofinal, mesfinal, ciudad):\n",
    "    ref_origen='NREL'\n",
    "    obj_origen='IDEAM'\n",
    "    ref=datosreferencia (agnoinicio,mesinicio,agnofinal,mesfinal,ciudad)[ref_origen]\n",
    "    obj=datosobjetivo (agnoinicio,mesinicio,agnofinal,mesfinal,ciudad)[obj_origen]\n",
    "    GHIref=ref.sum()/count_nonzero(ref)\n",
    "    GHIobj=obj.sum()/count_nonzero(obj)\n",
    "    DSTDref=ref[ref!=0].std()\n",
    "    DSTDobj=obj[obj!=0].std()\n",
    "    relDSTDs=DSTDobj/DSTDref\n",
    "   \n",
    "    refL=LLamarListaDatos(ciudad,ref_origen)[ref_origen]\n",
    "    VA=GHI_obj-(relDSTDs*GHI_ref)\n",
    "    VB=relDSTDs*refL\n",
    "    dataframe=LLamarListaDatos(ciudad,ref_origen)\n",
    "    dataframe['IDEAM']=LLamarListaDatos(ciudad,obj_origen)[obj_origen]\n",
    "    dataframe['MCP']=VA+VB\n",
    "    return dataframe\n",
    "\n",
    "def seriecorta(serie,agnoinicio,agnofinal):\n",
    "    sc = serie[(serie['AÑO']>=agnoinicio)&(serie['AÑO']<=agnofinal)]\n",
    "    return sc\n",
    "\n",
    "def graficaciudad (agnoinicio,mesinicio,agnofinal,mesfinal, ciudad):\n",
    "    ref_origen='NREL'\n",
    "    med_origen='IDEAM'\n",
    "    mcpd= ghi_mes(funcionmcp(agnoinicio,mesinicio,agnofinal,mesfinal,ciudad))['ghi_mes']\n",
    "    NREL= ghi_mes(llamarListaDatos(ciudad,ref_origen))['ghi_mes']\n",
    "    IDEAM = ghi_mes(llamarListaDatos(ciudad,rmed_origen))['ghi_mes']\n",
    "    \n",
    "    fig=figure()\n",
    "    pylab.xlabel('Meses')\n",
    "    pylab.ylabel(r'$GHI[\\frac{W}{m^2}]$')\n",
    "    pylab.plot(range(len(NREL)),NREL,'-k', label='Datos Satelitales')\n",
    "    pylab.plot(range(len(IDEAM)),IDEAM,'-b', label='Datos Medidos')\n",
    "    pylab.plot(range(len(mcpd)),MCPData,'-r', label='Datos Corregidos')\n",
    "    pylab.legend(loc='upper left')\n",
    "    #\n",
    "    fig1=figure()\n",
    "    pylab.xlabel(\"Datos\")\n",
    "    pylab.ylabel(\"Energía/Energía Base\")\n",
    "    mcpd2=sorted(mcpd)\n",
    "    NREL2=sorted(NREL)\n",
    "    IDEAM2=sorted(IDEAM)\n",
    "    pylab.xlabel('Datos')\n",
    "    pylab.ylabel(r'$GHI/GHI[\\frac{W}{m^2}]/[\\frac{W}{m^2}]$')\n",
    "    pylab.plot(range(len(NREL2)),NREL2/NREL2[0],'-k', label='Datos Satelitales')\n",
    "    pylab.plot(range(len(IDEAM)),IDEAM2/IDEAM2[0],'-b', label='Datos Medidos')\n",
    "    pylab.plot(range(len(mcpd)),mcpd2/mcpd2[0],'-r', label='Datos Corregidos')\n",
    "    pylab.legend(loc='upper left')\n",
    "    return fig1,'CUIDADO: Los datos medidos inician en el año 'datosobjetivo (agnoinicio,mesinicio,agnofinal,mesfinal,ciudad)['AÑO'].min()"
   ]
  },
  {
   "cell_type": "code",
   "execution_count": null,
   "metadata": {},
   "outputs": [],
   "source": [
    "plotgraficaciudad (2011, 1, 2016,\"Cali\")"
   ]
  },
  {
   "cell_type": "code",
   "execution_count": null,
   "metadata": {},
   "outputs": [],
   "source": [
    "#Punto 4"
   ]
  },
  {
   "cell_type": "code",
   "execution_count": null,
   "metadata": {},
   "outputs": [],
   "source": [
    "def funcionrms(agnoinicio,mesinicio,agnofinal,mesfinal,ciudad):\n",
    "    MCP_rms='MCP'\n",
    "    NREL_rms='NREL'\n",
    "    obj_rms='IDEAM'\n",
    "    \n",
    "    MCP_x=funcionmcp(agnoinicio,mesinicio,agnofinal,mesfinal,ciudad)[MCP_rms]\n",
    "    NREL_x=funcionmcp(agnoinicio,mesinicio,agnofinal,mesfinal,ciudad)[NREL_rms]\n",
    "    obj_x=funcionmcp(agnoinicio,mesinicio,agnofinal,mesfinal,ciudad)[obj_rms]\n",
    "           \n",
    "    RMS_mcp_insum=(obj_x-MCP_x)**2\n",
    "    RMS_nrel_insum=(obj_x-NREL_x)**2\n",
    "    \n",
    "    RMS_MCP=((RMS_mcp_insum.sum()/len(RMS_mcp_insum))**0.5)/(obj_x.max()-obj_x.min())\n",
    "    RMS_NREL=((RMS_nrel_insum.sum()/len(RMS_nrel_insum))**0.5)/(obj_x.max()-obj_x.min())\n",
    "    \n",
    "    dataframerms=pd.DataFrame({'RMS':[0,RMS_NREL,RMS_MCP]},index=['ideal','NREL vs IDEAM','MCP vs IDEAM'])\n",
    "    return dataframerms\n",
    "\n",
    "def funcionmbe(agnoinicio,mesinicio,agnofinal,mesfinal,ciudad):\n",
    "    MCP_mbe='MCP'\n",
    "    NREL_mbe='NREL'\n",
    "    obj_mbe='IDEAM'\n",
    "    #\n",
    "    MCP_x=funcionmcp(agnoinicio,mesinicio,agnofinal,mesfinal,ciudad)[MCP_mbe]\n",
    "    NREL_x=funcionmcp(agnoinicio,mesinicio,agnofinal,mesfinal,ciudad)[NREL_mbe]\n",
    "    obj_x=funcionmcp(agnoinicio,mesinicio,agnofinal,mesfinal,ciudad)[obj_mbe]\n",
    "    #\n",
    "    Error_MBE_MCP=( MCP_x-obj_x).sum()/(obj_x.sum())\n",
    "    Error_MBE_NREL=(NREL_x-obj_x).sum()/(obj_x.sum())\n",
    "    #\n",
    "    dataframe_mbe=pd.DataFrame({'MBE':[0,Error_MBE_NREL,Error_MBE_MCP]},index=['ideal','NREL vs IDEAM','MCP vs IDEAM'])\n",
    "    return dataframe_mbe\n",
    "\n",
    "\n",
    "def funcionksi(agnoinicio,mesinicio,agnofinal,mesfinal,ciudad):\n",
    "    agno_1=LLamarListaDatos(ciudad,'IDEAM')['AÑO'].min()\n",
    "    agno_2=LLamarListaDatos(ciudad,'IDEAM')['AÑO'].max()    \n",
    "    NREL=seriecorta(LLamarListaDatos(ciudad,'NREL'),agno_1,agno_2)['NREL']\n",
    "    D_MCP=seriecorta(funcionmcp(agnoinicio,mesinicio,agnofinal,mesfinal,ciudad),agno_1,agno2)['MCP']\n",
    "    \n",
    "    IDEAM=LLamarListaDatos(ciudad,'IDEAM')['IDEAM']    \n",
    "    Error_NREL=stats.ks_2samp(NREL,IDEAM)\n",
    "    Error_MCP=stats.ks_2samp(D_MCP,IDEAM)\n",
    "    dataframeksi=pd.DataFrame({'D':[0,Error_NREL[0],Error_MCP[0]],'p-Value':[1,Error_NREL[1],Error_MCP[1]]},index=['ideal','NREL vs IDEAM','MCP vs IDEAM'])\n",
    "    return dataframeksi\n",
    "\n",
    "def errores(agnoinicio,mesinicio,agnofinal,mesfinal,ciudad):\n",
    "    df_error=funcionrms(agnoinicio,mesinicio,agnofinal,mesfinal,ciudad)\n",
    "    df_error['MBE']=funcionmbe(agnoinicio,mesinicio,agnofinal,mesfinal,ciudad)['MBE']\n",
    "    df_error['KS statistic']=funcionksi(agnoinicio,mesinicio,agnofinal,mesfinal,ciudad)['D']\n",
    "    df_error['p-Value']=funcionksi(agnoinicio,mesinicio,agnofinal,mesfinal,ciudad)['p-Value']\n",
    "    return df_error\n",
    "def enficcs(agnoinicio,mesinicio,agnofinal,mesfinal,ciudad):\n",
    "    e_IDEAM=enficc(LLamarListaDatos(ciudad,'IDEAM'))\n",
    "    e_NREL=enficc(LLamarListaDatos(ciudad,'NREL'))\n",
    "    e_MCP=enficc(funcionmcp(agnoinicio,mesinicio,agnofinal,mesfinal,ciudad))\n",
    "    dataframe_enficc=pd.DataFrame({'IDEAM':[e_IDEAM[1]],'NREL':[e_NREL[1]],'MCP':[e_MCP[1]]},index=['ENFICC'])\n",
    "    return dataframe_enficc\n",
    "\n",
    "errores(2007,1,2015,1,\"Cali\")\n",
    "enficcs(2007,1,2015,1,\"Cali\")"
   ]
  },
  {
   "cell_type": "code",
   "execution_count": null,
   "metadata": {},
   "outputs": [],
   "source": [
    "#punto 5"
   ]
  },
  {
   "cell_type": "code",
   "execution_count": null,
   "metadata": {},
   "outputs": [],
   "source": []
  }
 ],
 "metadata": {
  "kernelspec": {
   "display_name": "Python 3.6",
   "language": "python",
   "name": "python36"
  },
  "language_info": {
   "codemirror_mode": {
    "name": "ipython",
    "version": 3
   },
   "file_extension": ".py",
   "mimetype": "text/x-python",
   "name": "python",
   "nbconvert_exporter": "python",
   "pygments_lexer": "ipython3",
   "version": "3.6.3"
  }
 },
 "nbformat": 4,
 "nbformat_minor": 2
}
