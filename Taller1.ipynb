{
 "cells": [
  {
   "cell_type": "code",
   "execution_count": 1,
   "metadata": {},
   "outputs": [],
   "source": [
    "#Punto 1"
   ]
  },
  {
   "cell_type": "code",
   "execution_count": 2,
   "metadata": {},
   "outputs": [
    {
     "name": "stdout",
     "output_type": "stream",
     "text": [
      "Populating the interactive namespace from numpy and matplotlib\n"
     ]
    }
   ],
   "source": [
    "import os\n",
    "import pandas as pd\n",
    "from scipy import stats\n",
    "%pylab inline"
   ]
  },
  {
   "cell_type": "code",
   "execution_count": 7,
   "metadata": {},
   "outputs": [],
   "source": [
    "def LLamarListaDatos(ciudad,origenDatos):\n",
    "    serie=os.path.join('.','data',ciudad,origenDatos+'.csv')\n",
    "    serie_pd = pd.read_csv(serie, sep = ';',encoding='latin-1')\n",
    "    return serie_pd"
   ]
  },
  {
   "cell_type": "code",
   "execution_count": 79,
   "metadata": {},
   "outputs": [],
   "source": [
    "def ghi_mensual(serieDatos):\n",
    "    agnos = sorted(serieDatos['AÑO'].unique())\n",
    "    energia = list(serieDatos)[-1]\n",
    "    ghidataf = pd.DataFrame(columns=[\"AÑO\",\"MES\",\"DIAS\",\"GHImes\",\"GHIdiarioProm\"+energia])\n",
    "    for agno in agnos:\n",
    "        for mes in range(1,13):\n",
    "            dias=sorted(serieDatos[(serieDatos['AÑO']==agno)&(serieDatos['MES']==mes)][\"DIA\"].unique())\n",
    "            ghi_mes=serieDatos.loc[((serieDatos[\"AÑO\"]==agno)&(serieDatos[\"MES\"]==mes)),energia].sum()/1000\n",
    "            ghi_diario = ghi_mes/dias[-1]\n",
    "            ghi=dict([(\"AÑO\",agno),(\"MES\",mes),(\"DIAS\",dias[-1]),(\"GHImes\",ghi_mes),(\"GHIdiario\",ghi_diario),(\"GHIdiarioProm\"+energia,ghi_diario)])\n",
    "            ghidataf=(ghidataf.append(ghi, ignore_index=True))\n",
    "    return ghidataf\n"
   ]
  },
  {
   "cell_type": "code",
   "execution_count": 80,
   "metadata": {},
   "outputs": [],
   "source": [
    "def enficc(serieDatos):\n",
    "    percentil=0.01\n",
    "    enficc=(ghi_mensual(serieDatos).quantile(q=percentil,numeric_only=True)[\"GHIdiarioProm\"+list(serieDatos)[-1]])\n",
    "    return 'La ENFICC 99% es:',enficc\n"
   ]
  },
  {
   "cell_type": "code",
   "execution_count": 81,
   "metadata": {},
   "outputs": [
    {
     "data": {
      "text/plain": [
       "4.5690073766119133"
      ]
     },
     "execution_count": 81,
     "metadata": {},
     "output_type": "execute_result"
    }
   ],
   "source": [
    "serieDatos=LLamarListaDatos(\"Valledupar\",\"IDEAM\")\n",
    "enficc(serieDatos)[1]"
   ]
  },
  {
   "cell_type": "code",
   "execution_count": 82,
   "metadata": {},
   "outputs": [],
   "source": [
    "#Punto 2"
   ]
  },
  {
   "cell_type": "code",
   "execution_count": 109,
   "metadata": {},
   "outputs": [],
   "source": [
    "def graficas(ciudad1,ciudad2,ciudad3,ciudad4,origenDatos):\n",
    "    serie1 = LLamarListaDatos(ciudad1,origenDatos)\n",
    "    serie2 = LLamarListaDatos(ciudad2,origenDatos)\n",
    "    serie3 = LLamarListaDatos(ciudad3,origenDatos)\n",
    "    serie4 = LLamarListaDatos(ciudad4,origenDatos)\n",
    "    datos1 = sorted(ghi_mensual(serie1)[\"GHIdiarioProm\"+list(serie1)[-1]])\n",
    "    datos2 = sorted(ghi_mensual(serie2)[\"GHIdiarioProm\"+list(serie2)[-1]])\n",
    "    datos3 = sorted(ghi_mensual(serie3)[\"GHIdiarioProm\"+list(serie3)[-1]])\n",
    "    datos4 = sorted(ghi_mensual(serie4)[\"GHIdiarioProm\"+list(serie4)[-1]])\n",
    "    numd1 = range(len(datos1))\n",
    "    numd2 = range(len(datos2))\n",
    "    numd3 = range(len(datos3))\n",
    "    numd4 = range(len(datos4))\n",
    "    fig=figure()\n",
    "    pylab.xlabel(\"Datos\")\n",
    "    pylab.ylabel(\"Energía/Energía Base de Datos IDEAM\")\n",
    "    pylab.title(origenDatos)\n",
    "    pylab.plot(numd1,datos1/datos1[0],'-k', label=ciudad1)\n",
    "    pylab.plot(numd2,datos2/datos2[0],'-b', label=ciudad2)\n",
    "    pylab.plot(numd3,datos3/datos3[0],'-y', label=ciudad3)\n",
    "    pylab.plot(numd4,datos4/datos4[0],'-r', label=ciudad4)\n",
    "    pylab.legend(loc='upper left')\n",
    "    \n",
    "    return "
   ]
  },
  {
   "cell_type": "code",
   "execution_count": 110,
   "metadata": {},
   "outputs": [
    {
     "data": {
      "image/png": "[encoded data removed]",
      "text/plain": [
       "<matplotlib.figure.Figure at 0x7f46806aa748>"
      ]
     },
     "metadata": {},
     "output_type": "display_data"
    }
   ],
   "source": [
    "graficas ('Cali','Valledupar','SantaMarta','Sucre','NREL')"
   ]
  },
  {
   "cell_type": "code",
   "execution_count": 111,
   "metadata": {},
   "outputs": [],
   "source": [
    "#Punto 3"
   ]
  },
  {
   "cell_type": "code",
   "execution_count": 132,
   "metadata": {},
   "outputs": [],
   "source": [
    "def datosobjetivo(agnoinicio,mesinicio,agnofinal,mesfinal,ciudad):\n",
    "    origen='IDEAM'\n",
    "    seriex=LLamarListaDatos(ciudad,origen)[(LLamarListaDatos(ciudad,origen)['AÑO']>=agnoinicio)&\n",
    "                                           (LLamarListaDatos(ciudad,origen)['MES']>=mesinicio)&\n",
    "                                           (LLamarListaDatos(ciudad,origen)['AÑO']<=agnofinal)&\n",
    "                                           (LLamarListaDatos(ciudad,origen)['MES']<=mesfinal)]\n",
    "    return seriex\n",
    "\n",
    "def datosreferencia (agnoinicio, mesinicio,agnofinal,mesfinal,ciudad):\n",
    "    origen='NREL'\n",
    "    seriey=LLamarListaDatos(ciudad,origen)[(LLamarListaDatos(ciudad,origen)['AÑO']>=agnoinicio)&\n",
    "                                           (LLamarListaDatos(ciudad,origen)['MES']>=mesinicio)&\n",
    "                                           (LLamarListaDatos(ciudad,origen)['AÑO']<=agnofinal)&\n",
    "                                           (LLamarListaDatos(ciudad,origen)['MES']<=mesfinal)]\n",
    "    return seriey\n",
    "\n",
    "def funcionmcp (agnoinicio,mesinicio,agnofinal,mesfinal,ciudad):\n",
    "    ref_origen='NREL'\n",
    "    obj_origen='IDEAM'\n",
    "    ref=datosreferencia (agnoinicio,mesinicio,agnofinal,mesfinal,ciudad)[ref_origen]\n",
    "    obj=datosobjetivo (agnoinicio,mesinicio,agnofinal,mesfinal,ciudad)[obj_origen]\n",
    "    GHIref=ref.sum()/count_nonzero(ref)\n",
    "    GHIobj=obj.sum()/count_nonzero(obj)\n",
    "    DSTDref=ref[ref!=0].std()\n",
    "    DSTDobj=obj[obj!=0].std()\n",
    "    relDSTDs=DSTDobj/DSTDref\n",
    "   \n",
    "    refL=LLamarListaDatos(ciudad,ref_origen)[ref_origen]\n",
    "    VA=GHIobj-(relDSTDs*GHIref)\n",
    "    VB=relDSTDs*refL\n",
    "    dataframe=LLamarListaDatos(ciudad,ref_origen)\n",
    "    dataframe['IDEAM']=LLamarListaDatos(ciudad,obj_origen)[obj_origen]\n",
    "    dataframe['MCP']=VA+VB\n",
    "    return dataframe\n",
    "\n",
    "def seriecorta(serie,agnoinicio,agnofinal):\n",
    "    sc=serie[(serie['AÑO']>=agnoinicio)&(serie['AÑO']<=agnofinal)]\n",
    "    return sc\n",
    "\n",
    "def graficaciudad(agnoinicio,mesinicio,agnofinal,mesfinal,ciudad):\n",
    "    med_origen='IDEAM'\n",
    "    ref_origen='NREL'\n",
    "    mcpd= ghi_mensual(funcionmcp(agnoinicio,mesinicio,agnofinal,mesfinal,ciudad))['ghi_mensual']\n",
    "    NREL= ghi_mensual(llamarListaDatos(ciudad,ref_origen))['ghi_mensual']\n",
    "    IDEAM = ghi_mensual(llamarListaDatos(ciudad,rmed_origen))['ghi_mensual']\n",
    "    fig=figure()\n",
    "    pylab.xlabel('Meses')\n",
    "    pylab.ylabel(r'$GHI[\\frac{W}{m^2}]$')\n",
    "    pylab.plot(range(len(NREL)),NREL,'-k', label='Datos Satelitales')\n",
    "    pylab.plot(range(len(IDEAM)),IDEAM,'-b', label='Datos Medidos')\n",
    "    pylab.plot(range(len(mcpd)),MCPData,'-r', label='Datos Corregidos')\n",
    "    pylab.legend(loc='upper left')\n",
    "    fig1=figure()\n",
    "    pylab.xlabel(\"Datos\")\n",
    "    pylab.ylabel(\"Energía/Energía de Base\")\n",
    "    mcpd2=sorted(mcpd)\n",
    "    NREL2=sorted(NREL)\n",
    "    IDEAM2=sorted(IDEAM)\n",
    "    pylab.xlabel('Datos')\n",
    "    pylab.ylabel(r'$GHI/GHI[\\frac{W}{m^2}]/[\\frac{W}{m^2}]$')\n",
    "    pylab.plot(range(len(NREL2)),NREL2/NREL2[0],'-k', label='Datos Satelitales')\n",
    "    pylab.plot(range(len(IDEAM)),IDEAM2/IDEAM2[0],'-b', label='Datos Medidos')\n",
    "    pylab.plot(range(len(mcpd)),mcpd2/mcpd2[0],'-r', label='Datos Corregidos')\n",
    "    pylab.legend(loc='upper left')\n",
    "    return fig1"
   ]
  },
  {
   "cell_type": "code",
   "execution_count": 133,
   "metadata": {},
   "outputs": [
    {
     "ename": "KeyError",
     "evalue": "'ghi_mensual'",
     "output_type": "error",
     "traceback": [
      "\u001b[0;31m---------------------------------------------------------------------------\u001b[0m",
      "\u001b[0;31mKeyError\u001b[0m                                  Traceback (most recent call last)",
      "\u001b[0;32m~/anaconda3_501/lib/python3.6/site-packages/pandas/core/indexes/base.py\u001b[0m in \u001b[0;36mget_loc\u001b[0;34m(self, key, method, tolerance)\u001b[0m\n\u001b[1;32m   2441\u001b[0m             \u001b[0;32mtry\u001b[0m\u001b[0;34m:\u001b[0m\u001b[0;34m\u001b[0m\u001b[0m\n\u001b[0;32m-> 2442\u001b[0;31m                 \u001b[0;32mreturn\u001b[0m \u001b[0mself\u001b[0m\u001b[0;34m.\u001b[0m\u001b[0m_engine\u001b[0m\u001b[0;34m.\u001b[0m\u001b[0mget_loc\u001b[0m\u001b[0;34m(\u001b[0m\u001b[0mkey\u001b[0m\u001b[0;34m)\u001b[0m\u001b[0;34m\u001b[0m\u001b[0m\n\u001b[0m\u001b[1;32m   2443\u001b[0m             \u001b[0;32mexcept\u001b[0m \u001b[0mKeyError\u001b[0m\u001b[0;34m:\u001b[0m\u001b[0;34m\u001b[0m\u001b[0m\n",
      "\u001b[0;32mpandas/_libs/index.pyx\u001b[0m in \u001b[0;36mpandas._libs.index.IndexEngine.get_loc\u001b[0;34m()\u001b[0m\n",
      "\u001b[0;32mpandas/_libs/index.pyx\u001b[0m in \u001b[0;36mpandas._libs.index.IndexEngine.get_loc\u001b[0;34m()\u001b[0m\n",
      "\u001b[0;32mpandas/_libs/hashtable_class_helper.pxi\u001b[0m in \u001b[0;36mpandas._libs.hashtable.PyObjectHashTable.get_item\u001b[0;34m()\u001b[0m\n",
      "\u001b[0;32mpandas/_libs/hashtable_class_helper.pxi\u001b[0m in \u001b[0;36mpandas._libs.hashtable.PyObjectHashTable.get_item\u001b[0;34m()\u001b[0m\n",
      "\u001b[0;31mKeyError\u001b[0m: 'ghi_mensual'",
      "\nDuring handling of the above exception, another exception occurred:\n",
      "\u001b[0;31mKeyError\u001b[0m                                  Traceback (most recent call last)",
      "\u001b[0;32m<ipython-input-133-e34432db4082>\u001b[0m in \u001b[0;36m<module>\u001b[0;34m()\u001b[0m\n\u001b[0;32m----> 1\u001b[0;31m \u001b[0mgraficaciudad\u001b[0m\u001b[0;34m(\u001b[0m\u001b[0;36m2011\u001b[0m\u001b[0;34m,\u001b[0m\u001b[0;36m1\u001b[0m\u001b[0;34m,\u001b[0m\u001b[0;36m2016\u001b[0m\u001b[0;34m,\u001b[0m\u001b[0;36m12\u001b[0m\u001b[0;34m,\u001b[0m\u001b[0;34m'Cali'\u001b[0m\u001b[0;34m)\u001b[0m\u001b[0;34m\u001b[0m\u001b[0m\n\u001b[0m",
      "\u001b[0;32m<ipython-input-132-cea19e086451>\u001b[0m in \u001b[0;36mgraficaciudad\u001b[0;34m(agnoinicio, mesinicio, agnofinal, mesfinal, ciudad)\u001b[0m\n\u001b[1;32m     41\u001b[0m     \u001b[0mmed_origen\u001b[0m\u001b[0;34m=\u001b[0m\u001b[0;34m'IDEAM'\u001b[0m\u001b[0;34m\u001b[0m\u001b[0m\n\u001b[1;32m     42\u001b[0m     \u001b[0mref_origen\u001b[0m\u001b[0;34m=\u001b[0m\u001b[0;34m'NREL'\u001b[0m\u001b[0;34m\u001b[0m\u001b[0m\n\u001b[0;32m---> 43\u001b[0;31m     \u001b[0mmcpd\u001b[0m\u001b[0;34m=\u001b[0m \u001b[0mghi_mensual\u001b[0m\u001b[0;34m(\u001b[0m\u001b[0mfuncionmcp\u001b[0m\u001b[0;34m(\u001b[0m\u001b[0magnoinicio\u001b[0m\u001b[0;34m,\u001b[0m\u001b[0mmesinicio\u001b[0m\u001b[0;34m,\u001b[0m\u001b[0magnofinal\u001b[0m\u001b[0;34m,\u001b[0m\u001b[0mmesfinal\u001b[0m\u001b[0;34m,\u001b[0m\u001b[0mciudad\u001b[0m\u001b[0;34m)\u001b[0m\u001b[0;34m)\u001b[0m\u001b[0;34m[\u001b[0m\u001b[0;34m'ghi_mensual'\u001b[0m\u001b[0;34m]\u001b[0m\u001b[0;34m\u001b[0m\u001b[0m\n\u001b[0m\u001b[1;32m     44\u001b[0m     \u001b[0mNREL\u001b[0m\u001b[0;34m=\u001b[0m \u001b[0mghi_mensual\u001b[0m\u001b[0;34m(\u001b[0m\u001b[0mllamarListaDatos\u001b[0m\u001b[0;34m(\u001b[0m\u001b[0mciudad\u001b[0m\u001b[0;34m,\u001b[0m\u001b[0mref_origen\u001b[0m\u001b[0;34m)\u001b[0m\u001b[0;34m)\u001b[0m\u001b[0;34m[\u001b[0m\u001b[0;34m'ghi_mensual'\u001b[0m\u001b[0;34m]\u001b[0m\u001b[0;34m\u001b[0m\u001b[0m\n\u001b[1;32m     45\u001b[0m     \u001b[0mIDEAM\u001b[0m \u001b[0;34m=\u001b[0m \u001b[0mghi_mensual\u001b[0m\u001b[0;34m(\u001b[0m\u001b[0mllamarListaDatos\u001b[0m\u001b[0;34m(\u001b[0m\u001b[0mciudad\u001b[0m\u001b[0;34m,\u001b[0m\u001b[0mrmed_origen\u001b[0m\u001b[0;34m)\u001b[0m\u001b[0;34m)\u001b[0m\u001b[0;34m[\u001b[0m\u001b[0;34m'ghi_mensual'\u001b[0m\u001b[0;34m]\u001b[0m\u001b[0;34m\u001b[0m\u001b[0m\n",
      "\u001b[0;32m~/anaconda3_501/lib/python3.6/site-packages/pandas/core/frame.py\u001b[0m in \u001b[0;36m__getitem__\u001b[0;34m(self, key)\u001b[0m\n\u001b[1;32m   1962\u001b[0m             \u001b[0;32mreturn\u001b[0m \u001b[0mself\u001b[0m\u001b[0;34m.\u001b[0m\u001b[0m_getitem_multilevel\u001b[0m\u001b[0;34m(\u001b[0m\u001b[0mkey\u001b[0m\u001b[0;34m)\u001b[0m\u001b[0;34m\u001b[0m\u001b[0m\n\u001b[1;32m   1963\u001b[0m         \u001b[0;32melse\u001b[0m\u001b[0;34m:\u001b[0m\u001b[0;34m\u001b[0m\u001b[0m\n\u001b[0;32m-> 1964\u001b[0;31m             \u001b[0;32mreturn\u001b[0m \u001b[0mself\u001b[0m\u001b[0;34m.\u001b[0m\u001b[0m_getitem_column\u001b[0m\u001b[0;34m(\u001b[0m\u001b[0mkey\u001b[0m\u001b[0;34m)\u001b[0m\u001b[0;34m\u001b[0m\u001b[0m\n\u001b[0m\u001b[1;32m   1965\u001b[0m \u001b[0;34m\u001b[0m\u001b[0m\n\u001b[1;32m   1966\u001b[0m     \u001b[0;32mdef\u001b[0m \u001b[0m_getitem_column\u001b[0m\u001b[0;34m(\u001b[0m\u001b[0mself\u001b[0m\u001b[0;34m,\u001b[0m \u001b[0mkey\u001b[0m\u001b[0;34m)\u001b[0m\u001b[0;34m:\u001b[0m\u001b[0;34m\u001b[0m\u001b[0m\n",
      "\u001b[0;32m~/anaconda3_501/lib/python3.6/site-packages/pandas/core/frame.py\u001b[0m in \u001b[0;36m_getitem_column\u001b[0;34m(self, key)\u001b[0m\n\u001b[1;32m   1969\u001b[0m         \u001b[0;31m# get column\u001b[0m\u001b[0;34m\u001b[0m\u001b[0;34m\u001b[0m\u001b[0m\n\u001b[1;32m   1970\u001b[0m         \u001b[0;32mif\u001b[0m \u001b[0mself\u001b[0m\u001b[0;34m.\u001b[0m\u001b[0mcolumns\u001b[0m\u001b[0;34m.\u001b[0m\u001b[0mis_unique\u001b[0m\u001b[0;34m:\u001b[0m\u001b[0;34m\u001b[0m\u001b[0m\n\u001b[0;32m-> 1971\u001b[0;31m             \u001b[0;32mreturn\u001b[0m \u001b[0mself\u001b[0m\u001b[0;34m.\u001b[0m\u001b[0m_get_item_cache\u001b[0m\u001b[0;34m(\u001b[0m\u001b[0mkey\u001b[0m\u001b[0;34m)\u001b[0m\u001b[0;34m\u001b[0m\u001b[0m\n\u001b[0m\u001b[1;32m   1972\u001b[0m \u001b[0;34m\u001b[0m\u001b[0m\n\u001b[1;32m   1973\u001b[0m         \u001b[0;31m# duplicate columns & possible reduce dimensionality\u001b[0m\u001b[0;34m\u001b[0m\u001b[0;34m\u001b[0m\u001b[0m\n",
      "\u001b[0;32m~/anaconda3_501/lib/python3.6/site-packages/pandas/core/generic.py\u001b[0m in \u001b[0;36m_get_item_cache\u001b[0;34m(self, item)\u001b[0m\n\u001b[1;32m   1643\u001b[0m         \u001b[0mres\u001b[0m \u001b[0;34m=\u001b[0m \u001b[0mcache\u001b[0m\u001b[0;34m.\u001b[0m\u001b[0mget\u001b[0m\u001b[0;34m(\u001b[0m\u001b[0mitem\u001b[0m\u001b[0;34m)\u001b[0m\u001b[0;34m\u001b[0m\u001b[0m\n\u001b[1;32m   1644\u001b[0m         \u001b[0;32mif\u001b[0m \u001b[0mres\u001b[0m \u001b[0;32mis\u001b[0m \u001b[0;32mNone\u001b[0m\u001b[0;34m:\u001b[0m\u001b[0;34m\u001b[0m\u001b[0m\n\u001b[0;32m-> 1645\u001b[0;31m             \u001b[0mvalues\u001b[0m \u001b[0;34m=\u001b[0m \u001b[0mself\u001b[0m\u001b[0;34m.\u001b[0m\u001b[0m_data\u001b[0m\u001b[0;34m.\u001b[0m\u001b[0mget\u001b[0m\u001b[0;34m(\u001b[0m\u001b[0mitem\u001b[0m\u001b[0;34m)\u001b[0m\u001b[0;34m\u001b[0m\u001b[0m\n\u001b[0m\u001b[1;32m   1646\u001b[0m             \u001b[0mres\u001b[0m \u001b[0;34m=\u001b[0m \u001b[0mself\u001b[0m\u001b[0;34m.\u001b[0m\u001b[0m_box_item_values\u001b[0m\u001b[0;34m(\u001b[0m\u001b[0mitem\u001b[0m\u001b[0;34m,\u001b[0m \u001b[0mvalues\u001b[0m\u001b[0;34m)\u001b[0m\u001b[0;34m\u001b[0m\u001b[0m\n\u001b[1;32m   1647\u001b[0m             \u001b[0mcache\u001b[0m\u001b[0;34m[\u001b[0m\u001b[0mitem\u001b[0m\u001b[0;34m]\u001b[0m \u001b[0;34m=\u001b[0m \u001b[0mres\u001b[0m\u001b[0;34m\u001b[0m\u001b[0m\n",
      "\u001b[0;32m~/anaconda3_501/lib/python3.6/site-packages/pandas/core/internals.py\u001b[0m in \u001b[0;36mget\u001b[0;34m(self, item, fastpath)\u001b[0m\n\u001b[1;32m   3588\u001b[0m \u001b[0;34m\u001b[0m\u001b[0m\n\u001b[1;32m   3589\u001b[0m             \u001b[0;32mif\u001b[0m \u001b[0;32mnot\u001b[0m \u001b[0misnull\u001b[0m\u001b[0;34m(\u001b[0m\u001b[0mitem\u001b[0m\u001b[0;34m)\u001b[0m\u001b[0;34m:\u001b[0m\u001b[0;34m\u001b[0m\u001b[0m\n\u001b[0;32m-> 3590\u001b[0;31m                 \u001b[0mloc\u001b[0m \u001b[0;34m=\u001b[0m \u001b[0mself\u001b[0m\u001b[0;34m.\u001b[0m\u001b[0mitems\u001b[0m\u001b[0;34m.\u001b[0m\u001b[0mget_loc\u001b[0m\u001b[0;34m(\u001b[0m\u001b[0mitem\u001b[0m\u001b[0;34m)\u001b[0m\u001b[0;34m\u001b[0m\u001b[0m\n\u001b[0m\u001b[1;32m   3591\u001b[0m             \u001b[0;32melse\u001b[0m\u001b[0;34m:\u001b[0m\u001b[0;34m\u001b[0m\u001b[0m\n\u001b[1;32m   3592\u001b[0m                 \u001b[0mindexer\u001b[0m \u001b[0;34m=\u001b[0m \u001b[0mnp\u001b[0m\u001b[0;34m.\u001b[0m\u001b[0marange\u001b[0m\u001b[0;34m(\u001b[0m\u001b[0mlen\u001b[0m\u001b[0;34m(\u001b[0m\u001b[0mself\u001b[0m\u001b[0;34m.\u001b[0m\u001b[0mitems\u001b[0m\u001b[0;34m)\u001b[0m\u001b[0;34m)\u001b[0m\u001b[0;34m[\u001b[0m\u001b[0misnull\u001b[0m\u001b[0;34m(\u001b[0m\u001b[0mself\u001b[0m\u001b[0;34m.\u001b[0m\u001b[0mitems\u001b[0m\u001b[0;34m)\u001b[0m\u001b[0;34m]\u001b[0m\u001b[0;34m\u001b[0m\u001b[0m\n",
      "\u001b[0;32m~/anaconda3_501/lib/python3.6/site-packages/pandas/core/indexes/base.py\u001b[0m in \u001b[0;36mget_loc\u001b[0;34m(self, key, method, tolerance)\u001b[0m\n\u001b[1;32m   2442\u001b[0m                 \u001b[0;32mreturn\u001b[0m \u001b[0mself\u001b[0m\u001b[0;34m.\u001b[0m\u001b[0m_engine\u001b[0m\u001b[0;34m.\u001b[0m\u001b[0mget_loc\u001b[0m\u001b[0;34m(\u001b[0m\u001b[0mkey\u001b[0m\u001b[0;34m)\u001b[0m\u001b[0;34m\u001b[0m\u001b[0m\n\u001b[1;32m   2443\u001b[0m             \u001b[0;32mexcept\u001b[0m \u001b[0mKeyError\u001b[0m\u001b[0;34m:\u001b[0m\u001b[0;34m\u001b[0m\u001b[0m\n\u001b[0;32m-> 2444\u001b[0;31m                 \u001b[0;32mreturn\u001b[0m \u001b[0mself\u001b[0m\u001b[0;34m.\u001b[0m\u001b[0m_engine\u001b[0m\u001b[0;34m.\u001b[0m\u001b[0mget_loc\u001b[0m\u001b[0;34m(\u001b[0m\u001b[0mself\u001b[0m\u001b[0;34m.\u001b[0m\u001b[0m_maybe_cast_indexer\u001b[0m\u001b[0;34m(\u001b[0m\u001b[0mkey\u001b[0m\u001b[0;34m)\u001b[0m\u001b[0;34m)\u001b[0m\u001b[0;34m\u001b[0m\u001b[0m\n\u001b[0m\u001b[1;32m   2445\u001b[0m \u001b[0;34m\u001b[0m\u001b[0m\n\u001b[1;32m   2446\u001b[0m         \u001b[0mindexer\u001b[0m \u001b[0;34m=\u001b[0m \u001b[0mself\u001b[0m\u001b[0;34m.\u001b[0m\u001b[0mget_indexer\u001b[0m\u001b[0;34m(\u001b[0m\u001b[0;34m[\u001b[0m\u001b[0mkey\u001b[0m\u001b[0;34m]\u001b[0m\u001b[0;34m,\u001b[0m \u001b[0mmethod\u001b[0m\u001b[0;34m=\u001b[0m\u001b[0mmethod\u001b[0m\u001b[0;34m,\u001b[0m \u001b[0mtolerance\u001b[0m\u001b[0;34m=\u001b[0m\u001b[0mtolerance\u001b[0m\u001b[0;34m)\u001b[0m\u001b[0;34m\u001b[0m\u001b[0m\n",
      "\u001b[0;32mpandas/_libs/index.pyx\u001b[0m in \u001b[0;36mpandas._libs.index.IndexEngine.get_loc\u001b[0;34m()\u001b[0m\n",
      "\u001b[0;32mpandas/_libs/index.pyx\u001b[0m in \u001b[0;36mpandas._libs.index.IndexEngine.get_loc\u001b[0;34m()\u001b[0m\n",
      "\u001b[0;32mpandas/_libs/hashtable_class_helper.pxi\u001b[0m in \u001b[0;36mpandas._libs.hashtable.PyObjectHashTable.get_item\u001b[0;34m()\u001b[0m\n",
      "\u001b[0;32mpandas/_libs/hashtable_class_helper.pxi\u001b[0m in \u001b[0;36mpandas._libs.hashtable.PyObjectHashTable.get_item\u001b[0;34m()\u001b[0m\n",
      "\u001b[0;31mKeyError\u001b[0m: 'ghi_mensual'"
     ]
    }
   ],
   "source": [
    "graficaciudad(2011,1,2016,12,'Cali')"
   ]
  },
  {
   "cell_type": "code",
   "execution_count": null,
   "metadata": {},
   "outputs": [],
   "source": [
    "#Punto 4"
   ]
  },
  {
   "cell_type": "code",
   "execution_count": null,
   "metadata": {},
   "outputs": [],
   "source": [
    "def funcionrms(agnoinicio,mesinicio,agnofinal,mesfinal,ciudad):\n",
    "    MCP_rms='MCP'\n",
    "    NREL_rms='NREL'\n",
    "    obj_rms='IDEAM'\n",
    "    \n",
    "    MCP_x=funcionmcp(agnoinicio,mesinicio,agnofinal,mesfinal,ciudad)[MCP_rms]\n",
    "    NREL_x=funcionmcp(agnoinicio,mesinicio,agnofinal,mesfinal,ciudad)[NREL_rms]\n",
    "    obj_x=funcionmcp(agnoinicio,mesinicio,agnofinal,mesfinal,ciudad)[obj_rms]\n",
    "           \n",
    "    RMS_mcp_insum=(obj_x-MCP_x)**2\n",
    "    RMS_nrel_insum=(obj_x-NREL_x)**2\n",
    "    \n",
    "    RMS_MCP=((RMS_mcp_insum.sum()/len(RMS_mcp_insum))**0.5)/(obj_x.max()-obj_x.min())\n",
    "    RMS_NREL=((RMS_nrel_insum.sum()/len(RMS_nrel_insum))**0.5)/(obj_x.max()-obj_x.min())\n",
    "    \n",
    "    dataframerms=pd.DataFrame({'RMS':[0,RMS_NREL,RMS_MCP]},index=['ideal','NREL vs IDEAM','MCP vs IDEAM'])\n",
    "    return dataframerms\n",
    "\n",
    "def funcionmbe(agnoinicio,mesinicio,agnofinal,mesfinal,ciudad):\n",
    "    MCP_mbe='MCP'\n",
    "    NREL_mbe='NREL'\n",
    "    obj_mbe='IDEAM'\n",
    "    #\n",
    "    MCP_x=funcionmcp(agnoinicio,mesinicio,agnofinal,mesfinal,ciudad)[MCP_mbe]\n",
    "    NREL_x=funcionmcp(agnoinicio,mesinicio,agnofinal,mesfinal,ciudad)[NREL_mbe]\n",
    "    obj_x=funcionmcp(agnoinicio,mesinicio,agnofinal,mesfinal,ciudad)[obj_mbe]\n",
    "    #\n",
    "    Error_MBE_MCP=( MCP_x-obj_x).sum()/(obj_x.sum())\n",
    "    Error_MBE_NREL=(NREL_x-obj_x).sum()/(obj_x.sum())\n",
    "    #\n",
    "    dataframe_mbe=pd.DataFrame({'MBE':[0,Error_MBE_NREL,Error_MBE_MCP]},index=['ideal','NREL vs IDEAM','MCP vs IDEAM'])\n",
    "    return dataframe_mbe\n",
    "\n",
    "\n",
    "def funcionksi(agnoinicio,mesinicio,agnofinal,mesfinal,ciudad):\n",
    "    agno_1=LLamarListaDatos(ciudad,'IDEAM')['AÑO'].min()\n",
    "    agno_2=LLamarListaDatos(ciudad,'IDEAM')['AÑO'].max()    \n",
    "    NREL=seriecorta(LLamarListaDatos(ciudad,'NREL'),agno_1,agno_2)['NREL']\n",
    "    D_MCP=seriecorta(funcionmcp(agnoinicio,mesinicio,agnofinal,mesfinal,ciudad),agno_1,agno2)['MCP']\n",
    "    \n",
    "    IDEAM=LLamarListaDatos(ciudad,'IDEAM')['IDEAM']    \n",
    "    Error_NREL=stats.ks_2samp(NREL,IDEAM)\n",
    "    Error_MCP=stats.ks_2samp(D_MCP,IDEAM)\n",
    "    dataframeksi=pd.DataFrame({'D':[0,Error_NREL[0],Error_MCP[0]],'p-Value':[1,Error_NREL[1],Error_MCP[1]]},index=['ideal','NREL vs IDEAM','MCP vs IDEAM'])\n",
    "    return dataframeksi\n",
    "\n",
    "def errores(agnoinicio,mesinicio,agnofinal,mesfinal,ciudad):\n",
    "    df_error=funcionrms(agnoinicio,mesinicio,agnofinal,mesfinal,ciudad)\n",
    "    df_error['MBE']=funcionmbe(agnoinicio,mesinicio,agnofinal,mesfinal,ciudad)['MBE']\n",
    "    df_error['KS statistic']=funcionksi(agnoinicio,mesinicio,agnofinal,mesfinal,ciudad)['D']\n",
    "    df_error['p-Value']=funcionksi(agnoinicio,mesinicio,agnofinal,mesfinal,ciudad)['p-Value']\n",
    "    return df_error\n",
    "def enficcs(agnoinicio,mesinicio,agnofinal,mesfinal,ciudad):\n",
    "    e_IDEAM=enficc(LLamarListaDatos(ciudad,'IDEAM'))\n",
    "    e_NREL=enficc(LLamarListaDatos(ciudad,'NREL'))\n",
    "    e_MCP=enficc(funcionmcp(agnoinicio,mesinicio,agnofinal,mesfinal,ciudad))\n",
    "    dataframe_enficc=pd.DataFrame({'IDEAM':[e_IDEAM[1]],'NREL':[e_NREL[1]],'MCP':[e_MCP[1]]},index=['ENFICC'])\n",
    "    return dataframe_enficc\n",
    "\n",
    "errores(2007,1,2015,1,\"Cali\")\n",
    "enficcs(2007,1,2015,1,\"Cali\")"
   ]
  },
  {
   "cell_type": "code",
   "execution_count": null,
   "metadata": {},
   "outputs": [],
   "source": [
    "#punto 5"
   ]
  },
  {
   "cell_type": "code",
   "execution_count": null,
   "metadata": {},
   "outputs": [],
   "source": []
  }
 ],
 "metadata": {
  "kernelspec": {
   "display_name": "Python 3.6",
   "language": "python",
   "name": "python36"
  },
  "language_info": {
   "codemirror_mode": {
    "name": "ipython",
    "version": 3
   },
   "file_extension": ".py",
   "mimetype": "text/x-python",
   "name": "python",
   "nbconvert_exporter": "python",
   "pygments_lexer": "ipython3",
   "version": "3.6.3"
  }
 },
 "nbformat": 4,
 "nbformat_minor": 2
}
